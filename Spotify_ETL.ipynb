{
 "cells": [
  {
   "cell_type": "code",
   "execution_count": 7,
   "id": "fe774022-1d8d-465e-9114-0a96a34bb221",
   "metadata": {},
   "outputs": [
    {
     "name": "stdout",
     "output_type": "stream",
     "text": [
      "Requirement already satisfied: python-dotenv in c:\\users\\firef\\anaconda3\\lib\\site-packages (0.21.0)\n",
      "Note: you may need to restart the kernel to use updated packages.\n"
     ]
    }
   ],
   "source": [
    "pip install python-dotenv"
   ]
  },
  {
   "cell_type": "code",
   "execution_count": 11,
   "id": "80642b3f-d845-460a-b6f3-5bc08b53567a",
   "metadata": {},
   "outputs": [],
   "source": [
    "import spotipy\n",
    "from spotipy.oauth2 import SpotifyClientCredentials\n",
    "import pandas as pd\n",
    "from dotenv import load_dotenv\n",
    "import os"
   ]
  },
  {
   "cell_type": "code",
   "execution_count": 19,
   "id": "402794c5-cc84-4765-bc1f-cc8850ce3e28",
   "metadata": {},
   "outputs": [],
   "source": [
    "load_dotenv()\n",
    "CLIENT_ID = os.environ.get(\"SPOTIFY_CLIENT_ID\")\n",
    "CLIENT_SECRET = os.environ.get(\"SPOTIFY_CLIENT_SECRET\")\n",
    "client_credentials_manager = SpotifyClientCredentials(client_id = CLIENT_ID, client_secret = CLIENT_SECRET)"
   ]
  },
  {
   "cell_type": "code",
   "execution_count": 21,
   "id": "694b2ec1-2091-47cf-8caa-330cbe52e7ad",
   "metadata": {},
   "outputs": [],
   "source": [
    "sp = spotipy.Spotify(client_credentials_manager = client_credentials_manager)"
   ]
  },
  {
   "cell_type": "code",
   "execution_count": 23,
   "id": "d72b9390-29c7-4893-98d3-07155a533b8a",
   "metadata": {},
   "outputs": [],
   "source": [
    "playlist_link = \"https://open.spotify.com/playlist/6UeSakyzhiEt4NB3UAd6NQ\""
   ]
  },
  {
   "cell_type": "code",
   "execution_count": 25,
   "id": "24dc1d85-1fa3-4837-8124-b9d49ba66090",
   "metadata": {},
   "outputs": [],
   "source": [
    "playlist_uri = playlist_link.split('/')[-1].split(\"?\")[0]"
   ]
  },
  {
   "cell_type": "code",
   "execution_count": 27,
   "id": "226fb04b-7615-4bd7-98dc-7a54198a0d08",
   "metadata": {},
   "outputs": [],
   "source": [
    "data = sp.playlist_tracks(playlist_uri)"
   ]
  },
  {
   "cell_type": "code",
   "execution_count": 57,
   "id": "16a234bf-9d2b-4b96-a072-c1f648f530ae",
   "metadata": {},
   "outputs": [
    {
     "data": {
      "text/plain": [
       "'0hvT3yIEysuuvkK73vgdcW'"
      ]
     },
     "execution_count": 57,
     "metadata": {},
     "output_type": "execute_result"
    }
   ],
   "source": [
    "data['items'][0]['track']['album']['id']"
   ]
  },
  {
   "cell_type": "code",
   "execution_count": 83,
   "id": "d1c3d694-ef5b-4eb3-9810-9a1285b9c2cc",
   "metadata": {},
   "outputs": [],
   "source": [
    "artist_list = []\n",
    "for row in data['items']:\n",
    "    for key,value in row.items():\n",
    "        if key == 'track':\n",
    "            for artist in value['artists']:\n",
    "                artist_dict = {'artist_id': artist['id'], 'artist_name': artist['name'], 'external_url': artist['href']}\n",
    "                artist_list.append(artist_dict)\n",
    "album_list = []\n",
    "for row in data['items']:\n",
    "    album_id = row['track']['album']['id']\n",
    "    album_name = row['track']['album']['name']\n",
    "    album_release_date = row['track']['album']['release_date']\n",
    "    album_total_tracks = row['track']['album']['total_tracks']\n",
    "    album_url = row['track']['album']['external_urls']['spotify']\n",
    "    album_element = {'album_id':album_id, 'album_name':album_name, 'release_date':album_release_date, 'total_tracks':album_total_tracks, 'url':album_url }\n",
    "    album_list.append(album_element)\n",
    "    \n",
    "song_list = []\n",
    "for row in data['items']:\n",
    "    song_id = row['track']['id']\n",
    "    song_name = row['track']['name']\n",
    "    song_duration = row['track']['duration_ms']\n",
    "    song_url = row['track']['external_urls']['spotify']\n",
    "    song_popularity = row['track']['popularity']\n",
    "    song_added = row['added_at']\n",
    "    album_id = row['track']['album']['id']\n",
    "    artist_id = row['track']['artists'][0]['id']\n",
    "    song_element = {'song_id':song_id, 'song_name':song_name, 'duration_ms':song_duration, 'url':song_url, 'popularity':song_popularity, 'song_added':song_added, 'album_id':album_id, 'artist_id':artist_id}\n",
    "    song_list.append(song_element)\n"
   ]
  },
  {
   "cell_type": "code",
   "execution_count": 85,
   "id": "ebb72b0a-5d79-4bfa-9d27-2d0f8eda88bf",
   "metadata": {},
   "outputs": [
    {
     "data": {
      "text/html": [
       "<div>\n",
       "<style scoped>\n",
       "    .dataframe tbody tr th:only-of-type {\n",
       "        vertical-align: middle;\n",
       "    }\n",
       "\n",
       "    .dataframe tbody tr th {\n",
       "        vertical-align: top;\n",
       "    }\n",
       "\n",
       "    .dataframe thead th {\n",
       "        text-align: right;\n",
       "    }\n",
       "</style>\n",
       "<table border=\"1\" class=\"dataframe\">\n",
       "  <thead>\n",
       "    <tr style=\"text-align: right;\">\n",
       "      <th></th>\n",
       "      <th>album_id</th>\n",
       "      <th>album_name</th>\n",
       "      <th>release_date</th>\n",
       "      <th>total_tracks</th>\n",
       "      <th>url</th>\n",
       "    </tr>\n",
       "  </thead>\n",
       "  <tbody>\n",
       "    <tr>\n",
       "      <th>0</th>\n",
       "      <td>0hvT3yIEysuuvkK73vgdcW</td>\n",
       "      <td>GNX</td>\n",
       "      <td>2024-11-22</td>\n",
       "      <td>12</td>\n",
       "      <td>https://open.spotify.com/album/0hvT3yIEysuuvkK...</td>\n",
       "    </tr>\n",
       "    <tr>\n",
       "      <th>1</th>\n",
       "      <td>5JjnoGJyOxfSZUZtk2rRwZ</td>\n",
       "      <td>Not Like Us</td>\n",
       "      <td>2024-05-04</td>\n",
       "      <td>1</td>\n",
       "      <td>https://open.spotify.com/album/5JjnoGJyOxfSZUZ...</td>\n",
       "    </tr>\n",
       "    <tr>\n",
       "      <th>2</th>\n",
       "      <td>10FLjwfpbxLmW8c25Xyc2N</td>\n",
       "      <td>Die With A Smile</td>\n",
       "      <td>2024-08-16</td>\n",
       "      <td>1</td>\n",
       "      <td>https://open.spotify.com/album/10FLjwfpbxLmW8c...</td>\n",
       "    </tr>\n",
       "    <tr>\n",
       "      <th>3</th>\n",
       "      <td>0hvT3yIEysuuvkK73vgdcW</td>\n",
       "      <td>GNX</td>\n",
       "      <td>2024-11-22</td>\n",
       "      <td>12</td>\n",
       "      <td>https://open.spotify.com/album/0hvT3yIEysuuvkK...</td>\n",
       "    </tr>\n",
       "    <tr>\n",
       "      <th>4</th>\n",
       "      <td>0hvT3yIEysuuvkK73vgdcW</td>\n",
       "      <td>GNX</td>\n",
       "      <td>2024-11-22</td>\n",
       "      <td>12</td>\n",
       "      <td>https://open.spotify.com/album/0hvT3yIEysuuvkK...</td>\n",
       "    </tr>\n",
       "    <tr>\n",
       "      <th>...</th>\n",
       "      <td>...</td>\n",
       "      <td>...</td>\n",
       "      <td>...</td>\n",
       "      <td>...</td>\n",
       "      <td>...</td>\n",
       "    </tr>\n",
       "    <tr>\n",
       "      <th>95</th>\n",
       "      <td>5HAxzyUfyay8NElNaehsNe</td>\n",
       "      <td>4X4</td>\n",
       "      <td>2025-01-24</td>\n",
       "      <td>1</td>\n",
       "      <td>https://open.spotify.com/album/5HAxzyUfyay8NEl...</td>\n",
       "    </tr>\n",
       "    <tr>\n",
       "      <th>96</th>\n",
       "      <td>0b64yYszabe2wxhG1PiSQo</td>\n",
       "      <td>MUTT</td>\n",
       "      <td>2024-08-09</td>\n",
       "      <td>1</td>\n",
       "      <td>https://open.spotify.com/album/0b64yYszabe2wxh...</td>\n",
       "    </tr>\n",
       "    <tr>\n",
       "      <th>97</th>\n",
       "      <td>2Q2TRdT994vTzGE3Grmmht</td>\n",
       "      <td>Love Sick (Deluxe)</td>\n",
       "      <td>2023-02-28</td>\n",
       "      <td>20</td>\n",
       "      <td>https://open.spotify.com/album/2Q2TRdT994vTzGE...</td>\n",
       "    </tr>\n",
       "    <tr>\n",
       "      <th>98</th>\n",
       "      <td>5K79FLRUCSysQnVESLcTdb</td>\n",
       "      <td>DeBÍ TiRAR MáS FOToS</td>\n",
       "      <td>2025-01-05</td>\n",
       "      <td>17</td>\n",
       "      <td>https://open.spotify.com/album/5K79FLRUCSysQnV...</td>\n",
       "    </tr>\n",
       "    <tr>\n",
       "      <th>99</th>\n",
       "      <td>3iPSVi54hsacKKl1xIR2eH</td>\n",
       "      <td>Short n' Sweet</td>\n",
       "      <td>2024-08-23</td>\n",
       "      <td>12</td>\n",
       "      <td>https://open.spotify.com/album/3iPSVi54hsacKKl...</td>\n",
       "    </tr>\n",
       "  </tbody>\n",
       "</table>\n",
       "<p>100 rows × 5 columns</p>\n",
       "</div>"
      ],
      "text/plain": [
       "                  album_id            album_name release_date  total_tracks  \\\n",
       "0   0hvT3yIEysuuvkK73vgdcW                   GNX   2024-11-22            12   \n",
       "1   5JjnoGJyOxfSZUZtk2rRwZ           Not Like Us   2024-05-04             1   \n",
       "2   10FLjwfpbxLmW8c25Xyc2N      Die With A Smile   2024-08-16             1   \n",
       "3   0hvT3yIEysuuvkK73vgdcW                   GNX   2024-11-22            12   \n",
       "4   0hvT3yIEysuuvkK73vgdcW                   GNX   2024-11-22            12   \n",
       "..                     ...                   ...          ...           ...   \n",
       "95  5HAxzyUfyay8NElNaehsNe                   4X4   2025-01-24             1   \n",
       "96  0b64yYszabe2wxhG1PiSQo                  MUTT   2024-08-09             1   \n",
       "97  2Q2TRdT994vTzGE3Grmmht    Love Sick (Deluxe)   2023-02-28            20   \n",
       "98  5K79FLRUCSysQnVESLcTdb  DeBÍ TiRAR MáS FOToS   2025-01-05            17   \n",
       "99  3iPSVi54hsacKKl1xIR2eH        Short n' Sweet   2024-08-23            12   \n",
       "\n",
       "                                                  url  \n",
       "0   https://open.spotify.com/album/0hvT3yIEysuuvkK...  \n",
       "1   https://open.spotify.com/album/5JjnoGJyOxfSZUZ...  \n",
       "2   https://open.spotify.com/album/10FLjwfpbxLmW8c...  \n",
       "3   https://open.spotify.com/album/0hvT3yIEysuuvkK...  \n",
       "4   https://open.spotify.com/album/0hvT3yIEysuuvkK...  \n",
       "..                                                ...  \n",
       "95  https://open.spotify.com/album/5HAxzyUfyay8NEl...  \n",
       "96  https://open.spotify.com/album/0b64yYszabe2wxh...  \n",
       "97  https://open.spotify.com/album/2Q2TRdT994vTzGE...  \n",
       "98  https://open.spotify.com/album/5K79FLRUCSysQnV...  \n",
       "99  https://open.spotify.com/album/3iPSVi54hsacKKl...  \n",
       "\n",
       "[100 rows x 5 columns]"
      ]
     },
     "execution_count": 85,
     "metadata": {},
     "output_type": "execute_result"
    }
   ],
   "source": [
    "album_df = pd.DataFrame.from_dict(album_list)\n",
    "album_df"
   ]
  },
  {
   "cell_type": "code",
   "execution_count": 67,
   "id": "572185b8-0192-4842-92e2-fb4b43ec9ff4",
   "metadata": {},
   "outputs": [
    {
     "data": {
      "text/html": [
       "<div>\n",
       "<style scoped>\n",
       "    .dataframe tbody tr th:only-of-type {\n",
       "        vertical-align: middle;\n",
       "    }\n",
       "\n",
       "    .dataframe tbody tr th {\n",
       "        vertical-align: top;\n",
       "    }\n",
       "\n",
       "    .dataframe thead th {\n",
       "        text-align: right;\n",
       "    }\n",
       "</style>\n",
       "<table border=\"1\" class=\"dataframe\">\n",
       "  <thead>\n",
       "    <tr style=\"text-align: right;\">\n",
       "      <th></th>\n",
       "      <th>artist_id</th>\n",
       "      <th>artist_name</th>\n",
       "      <th>external_url</th>\n",
       "    </tr>\n",
       "  </thead>\n",
       "  <tbody>\n",
       "    <tr>\n",
       "      <th>0</th>\n",
       "      <td>2YZyLoL8N0Wb9xBt1NhZWg</td>\n",
       "      <td>Kendrick Lamar</td>\n",
       "      <td>https://api.spotify.com/v1/artists/2YZyLoL8N0W...</td>\n",
       "    </tr>\n",
       "    <tr>\n",
       "      <th>1</th>\n",
       "      <td>7tYKF4w9nC0nq9CsPZTHyP</td>\n",
       "      <td>SZA</td>\n",
       "      <td>https://api.spotify.com/v1/artists/7tYKF4w9nC0...</td>\n",
       "    </tr>\n",
       "    <tr>\n",
       "      <th>2</th>\n",
       "      <td>2YZyLoL8N0Wb9xBt1NhZWg</td>\n",
       "      <td>Kendrick Lamar</td>\n",
       "      <td>https://api.spotify.com/v1/artists/2YZyLoL8N0W...</td>\n",
       "    </tr>\n",
       "    <tr>\n",
       "      <th>3</th>\n",
       "      <td>1HY2Jd0NmPuamShAr6KMms</td>\n",
       "      <td>Lady Gaga</td>\n",
       "      <td>https://api.spotify.com/v1/artists/1HY2Jd0NmPu...</td>\n",
       "    </tr>\n",
       "    <tr>\n",
       "      <th>4</th>\n",
       "      <td>0du5cEVh5yTK9QJze8zA0C</td>\n",
       "      <td>Bruno Mars</td>\n",
       "      <td>https://api.spotify.com/v1/artists/0du5cEVh5yT...</td>\n",
       "    </tr>\n",
       "  </tbody>\n",
       "</table>\n",
       "</div>"
      ],
      "text/plain": [
       "                artist_id     artist_name  \\\n",
       "0  2YZyLoL8N0Wb9xBt1NhZWg  Kendrick Lamar   \n",
       "1  7tYKF4w9nC0nq9CsPZTHyP             SZA   \n",
       "2  2YZyLoL8N0Wb9xBt1NhZWg  Kendrick Lamar   \n",
       "3  1HY2Jd0NmPuamShAr6KMms       Lady Gaga   \n",
       "4  0du5cEVh5yTK9QJze8zA0C      Bruno Mars   \n",
       "\n",
       "                                        external_url  \n",
       "0  https://api.spotify.com/v1/artists/2YZyLoL8N0W...  \n",
       "1  https://api.spotify.com/v1/artists/7tYKF4w9nC0...  \n",
       "2  https://api.spotify.com/v1/artists/2YZyLoL8N0W...  \n",
       "3  https://api.spotify.com/v1/artists/1HY2Jd0NmPu...  \n",
       "4  https://api.spotify.com/v1/artists/0du5cEVh5yT...  "
      ]
     },
     "execution_count": 67,
     "metadata": {},
     "output_type": "execute_result"
    }
   ],
   "source": [
    "artist_df = pd.DataFrame.from_dict(artist_list)\n",
    "artist_df.head()"
   ]
  },
  {
   "cell_type": "code",
   "execution_count": 69,
   "id": "6e84aebd-a9e2-4e4f-8b4b-daf39a7fccd5",
   "metadata": {},
   "outputs": [
    {
     "data": {
      "text/html": [
       "<div>\n",
       "<style scoped>\n",
       "    .dataframe tbody tr th:only-of-type {\n",
       "        vertical-align: middle;\n",
       "    }\n",
       "\n",
       "    .dataframe tbody tr th {\n",
       "        vertical-align: top;\n",
       "    }\n",
       "\n",
       "    .dataframe thead th {\n",
       "        text-align: right;\n",
       "    }\n",
       "</style>\n",
       "<table border=\"1\" class=\"dataframe\">\n",
       "  <thead>\n",
       "    <tr style=\"text-align: right;\">\n",
       "      <th></th>\n",
       "      <th>song_id</th>\n",
       "      <th>song_name</th>\n",
       "      <th>duration_ms</th>\n",
       "      <th>url</th>\n",
       "      <th>popularity</th>\n",
       "      <th>song_added</th>\n",
       "      <th>album_id</th>\n",
       "      <th>artist_id</th>\n",
       "    </tr>\n",
       "  </thead>\n",
       "  <tbody>\n",
       "    <tr>\n",
       "      <th>0</th>\n",
       "      <td>45J4avUb9Ni0bnETYaYFVJ</td>\n",
       "      <td>luther (with sza)</td>\n",
       "      <td>177598</td>\n",
       "      <td>https://open.spotify.com/track/45J4avUb9Ni0bnE...</td>\n",
       "      <td>88</td>\n",
       "      <td>2025-02-28T18:14:17Z</td>\n",
       "      <td>0hvT3yIEysuuvkK73vgdcW</td>\n",
       "      <td>2YZyLoL8N0Wb9xBt1NhZWg</td>\n",
       "    </tr>\n",
       "    <tr>\n",
       "      <th>1</th>\n",
       "      <td>6AI3ezQ4o3HUoP6Dhudph3</td>\n",
       "      <td>Not Like Us</td>\n",
       "      <td>274192</td>\n",
       "      <td>https://open.spotify.com/track/6AI3ezQ4o3HUoP6...</td>\n",
       "      <td>92</td>\n",
       "      <td>2025-02-28T18:14:17Z</td>\n",
       "      <td>5JjnoGJyOxfSZUZtk2rRwZ</td>\n",
       "      <td>2YZyLoL8N0Wb9xBt1NhZWg</td>\n",
       "    </tr>\n",
       "    <tr>\n",
       "      <th>2</th>\n",
       "      <td>2plbrEY59IikOBgBGLjaoe</td>\n",
       "      <td>Die With A Smile</td>\n",
       "      <td>251667</td>\n",
       "      <td>https://open.spotify.com/track/2plbrEY59IikOBg...</td>\n",
       "      <td>96</td>\n",
       "      <td>2025-02-28T18:14:17Z</td>\n",
       "      <td>10FLjwfpbxLmW8c25Xyc2N</td>\n",
       "      <td>1HY2Jd0NmPuamShAr6KMms</td>\n",
       "    </tr>\n",
       "    <tr>\n",
       "      <th>3</th>\n",
       "      <td>0aB0v4027ukVziUGwVGYpG</td>\n",
       "      <td>tv off (feat. lefty gunplay)</td>\n",
       "      <td>220690</td>\n",
       "      <td>https://open.spotify.com/track/0aB0v4027ukVziU...</td>\n",
       "      <td>90</td>\n",
       "      <td>2025-02-28T18:14:17Z</td>\n",
       "      <td>0hvT3yIEysuuvkK73vgdcW</td>\n",
       "      <td>2YZyLoL8N0Wb9xBt1NhZWg</td>\n",
       "    </tr>\n",
       "    <tr>\n",
       "      <th>4</th>\n",
       "      <td>0nj9Bq5sHDiTxSHunhgkFb</td>\n",
       "      <td>squabble up</td>\n",
       "      <td>157992</td>\n",
       "      <td>https://open.spotify.com/track/0nj9Bq5sHDiTxSH...</td>\n",
       "      <td>87</td>\n",
       "      <td>2025-02-28T18:14:17Z</td>\n",
       "      <td>0hvT3yIEysuuvkK73vgdcW</td>\n",
       "      <td>2YZyLoL8N0Wb9xBt1NhZWg</td>\n",
       "    </tr>\n",
       "  </tbody>\n",
       "</table>\n",
       "</div>"
      ],
      "text/plain": [
       "                  song_id                     song_name  duration_ms  \\\n",
       "0  45J4avUb9Ni0bnETYaYFVJ             luther (with sza)       177598   \n",
       "1  6AI3ezQ4o3HUoP6Dhudph3                   Not Like Us       274192   \n",
       "2  2plbrEY59IikOBgBGLjaoe              Die With A Smile       251667   \n",
       "3  0aB0v4027ukVziUGwVGYpG  tv off (feat. lefty gunplay)       220690   \n",
       "4  0nj9Bq5sHDiTxSHunhgkFb                   squabble up       157992   \n",
       "\n",
       "                                                 url  popularity  \\\n",
       "0  https://open.spotify.com/track/45J4avUb9Ni0bnE...          88   \n",
       "1  https://open.spotify.com/track/6AI3ezQ4o3HUoP6...          92   \n",
       "2  https://open.spotify.com/track/2plbrEY59IikOBg...          96   \n",
       "3  https://open.spotify.com/track/0aB0v4027ukVziU...          90   \n",
       "4  https://open.spotify.com/track/0nj9Bq5sHDiTxSH...          87   \n",
       "\n",
       "             song_added                album_id               artist_id  \n",
       "0  2025-02-28T18:14:17Z  0hvT3yIEysuuvkK73vgdcW  2YZyLoL8N0Wb9xBt1NhZWg  \n",
       "1  2025-02-28T18:14:17Z  5JjnoGJyOxfSZUZtk2rRwZ  2YZyLoL8N0Wb9xBt1NhZWg  \n",
       "2  2025-02-28T18:14:17Z  10FLjwfpbxLmW8c25Xyc2N  1HY2Jd0NmPuamShAr6KMms  \n",
       "3  2025-02-28T18:14:17Z  0hvT3yIEysuuvkK73vgdcW  2YZyLoL8N0Wb9xBt1NhZWg  \n",
       "4  2025-02-28T18:14:17Z  0hvT3yIEysuuvkK73vgdcW  2YZyLoL8N0Wb9xBt1NhZWg  "
      ]
     },
     "execution_count": 69,
     "metadata": {},
     "output_type": "execute_result"
    }
   ],
   "source": [
    "song_df = pd.DataFrame.from_dict(song_list)\n",
    "song_df.head()"
   ]
  },
  {
   "cell_type": "code",
   "execution_count": 71,
   "id": "f39ef9bc-bb3c-483b-9cf0-50da19d49992",
   "metadata": {},
   "outputs": [
    {
     "name": "stdout",
     "output_type": "stream",
     "text": [
      "<class 'pandas.core.frame.DataFrame'>\n",
      "RangeIndex: 100 entries, 0 to 99\n",
      "Data columns (total 3 columns):\n",
      " #   Column        Non-Null Count  Dtype \n",
      "---  ------        --------------  ----- \n",
      " 0   artist_id     100 non-null    object\n",
      " 1   album_name    100 non-null    object\n",
      " 2   external_url  100 non-null    object\n",
      "dtypes: object(3)\n",
      "memory usage: 2.5+ KB\n"
     ]
    }
   ],
   "source": [
    "album_df.info()"
   ]
  },
  {
   "cell_type": "code",
   "execution_count": 87,
   "id": "94ecfb4f-2c3b-4899-a6f2-1b0b7628a5a4",
   "metadata": {},
   "outputs": [],
   "source": [
    "artist_df = artist_df.drop_duplicates(subset=[\"artist_id\"])\n",
    "album_df = album_df.drop_duplicates(subset=[\"album_id\"])"
   ]
  },
  {
   "cell_type": "code",
   "execution_count": 121,
   "id": "f687e496-f9db-4755-9dcc-c51747f6c90d",
   "metadata": {},
   "outputs": [
    {
     "name": "stdout",
     "output_type": "stream",
     "text": [
      "<class 'pandas.core.frame.DataFrame'>\n",
      "Index: 63 entries, 0 to 97\n",
      "Data columns (total 5 columns):\n",
      " #   Column        Non-Null Count  Dtype         \n",
      "---  ------        --------------  -----         \n",
      " 0   album_id      63 non-null     object        \n",
      " 1   album_name    63 non-null     object        \n",
      " 2   release_date  63 non-null     datetime64[ns]\n",
      " 3   total_tracks  63 non-null     int64         \n",
      " 4   url           63 non-null     object        \n",
      "dtypes: datetime64[ns](1), int64(1), object(3)\n",
      "memory usage: 5.0+ KB\n"
     ]
    },
    {
     "name": "stderr",
     "output_type": "stream",
     "text": [
      "C:\\Users\\FireF\\AppData\\Local\\Temp\\ipykernel_16420\\3654147735.py:1: SettingWithCopyWarning: \n",
      "A value is trying to be set on a copy of a slice from a DataFrame.\n",
      "Try using .loc[row_indexer,col_indexer] = value instead\n",
      "\n",
      "See the caveats in the documentation: https://pandas.pydata.org/pandas-docs/stable/user_guide/indexing.html#returning-a-view-versus-a-copy\n",
      "  album_df['release_date'] = pd.to_datetime(album_df['release_date'])\n"
     ]
    }
   ],
   "source": [
    "album_df['release_date'] = pd.to_datetime(album_df['release_date'])\n",
    "album_df.info()"
   ]
  },
  {
   "cell_type": "code",
   "execution_count": 123,
   "id": "89dc9645-8a6b-4234-a715-4f92c2be6484",
   "metadata": {},
   "outputs": [
    {
     "name": "stdout",
     "output_type": "stream",
     "text": [
      "<class 'pandas.core.frame.DataFrame'>\n",
      "RangeIndex: 100 entries, 0 to 99\n",
      "Data columns (total 8 columns):\n",
      " #   Column       Non-Null Count  Dtype              \n",
      "---  ------       --------------  -----              \n",
      " 0   song_id      100 non-null    object             \n",
      " 1   song_name    100 non-null    object             \n",
      " 2   duration_ms  100 non-null    int64              \n",
      " 3   url          100 non-null    object             \n",
      " 4   popularity   100 non-null    int64              \n",
      " 5   song_added   100 non-null    datetime64[ns, UTC]\n",
      " 6   album_id     100 non-null    object             \n",
      " 7   artist_id    100 non-null    object             \n",
      "dtypes: datetime64[ns, UTC](1), int64(2), object(5)\n",
      "memory usage: 6.4+ KB\n"
     ]
    }
   ],
   "source": [
    "song_df['song_added'] = pd.to_datetime(song_df['song_added'])\n",
    "song_df.info()"
   ]
  },
  {
   "cell_type": "code",
   "execution_count": null,
   "id": "d08d0dad-71f3-49ce-a9cf-d0e6a6f04f6a",
   "metadata": {},
   "outputs": [],
   "source": []
  }
 ],
 "metadata": {
  "kernelspec": {
   "display_name": "Python 3 (ipykernel)",
   "language": "python",
   "name": "python3"
  },
  "language_info": {
   "codemirror_mode": {
    "name": "ipython",
    "version": 3
   },
   "file_extension": ".py",
   "mimetype": "text/x-python",
   "name": "python",
   "nbconvert_exporter": "python",
   "pygments_lexer": "ipython3",
   "version": "3.12.4"
  }
 },
 "nbformat": 4,
 "nbformat_minor": 5
}
